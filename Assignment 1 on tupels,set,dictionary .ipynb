{
 "cells": [
  {
   "cell_type": "markdown",
   "id": "6c990f14-ecef-45b6-800e-bfa7d33989cb",
   "metadata": {},
   "source": [
    "## Q1. What are the characteristics of the tuples? Is tuple immutable?"
   ]
  },
  {
   "cell_type": "markdown",
   "id": "801c3b7b-62a1-4229-b42e-e650dc2c5830",
   "metadata": {},
   "source": [
    "Ans:-1) It can store int,float,boolean,complex no.\n",
    "     2) It Can be used as dictionary keys\n",
    "     3) It can be accessed by index.\n",
    "yes tuple is immutable that means it can't modified.\n",
    "        "
   ]
  },
  {
   "cell_type": "markdown",
   "id": "14436540-0e08-4b24-9e5d-2ac3fe97b0f0",
   "metadata": {},
   "source": [
    "## Q2. What are the two tuple methods in python? Give an example of each method. Give a reason why tuples have only two in-built methods as compared to Lists."
   ]
  },
  {
   "cell_type": "code",
   "execution_count": 6,
   "id": "c6c966a5-2187-4bbb-9f61-46158b661965",
   "metadata": {},
   "outputs": [
    {
     "name": "stdout",
     "output_type": "stream",
     "text": [
      "7\n"
     ]
    }
   ],
   "source": [
    "\"\"\"Ans:- two inbuilt function in tuples are count and index.\"\"\"\n",
    "\"\"\" example of count in tuple\"\"\"\n",
    "my_tuple = (1, 2, 3, 4, 3, 3, 5,5,5,5,5,5,5)\n",
    "\n",
    "count_five = my_tuple.count(5)\n",
    "print(count_five)  \n",
    "  "
   ]
  },
  {
   "cell_type": "code",
   "execution_count": 5,
   "id": "f8d13e01-e09d-4e2b-90b6-87d5d22cacda",
   "metadata": {},
   "outputs": [
    {
     "name": "stdout",
     "output_type": "stream",
     "text": [
      "2\n"
     ]
    }
   ],
   "source": [
    "\"\"\"example of index in tuples\"\"\"\n",
    "my_tuple = (1, 2, 3, 4, 3, 3, 5)\n",
    "\n",
    "index = my_tuple.index(3)\n",
    "print(index)  \n"
   ]
  },
  {
   "cell_type": "code",
   "execution_count": null,
   "id": "1df899ec-624f-4b3e-86fa-1884667e37a2",
   "metadata": {},
   "outputs": [],
   "source": [
    "Tuples have two built-in methods compared to lists primarily because tuples are designed to be immutable,\n",
    "while lists are mutable."
   ]
  },
  {
   "cell_type": "markdown",
   "id": "09c512f5-1b9f-4396-abd9-763585a4c909",
   "metadata": {},
   "source": [
    "## Q3. Which collection datatypes in python do not allow duplicate items? Write a code using a set to remove duplicates from the given list.\n",
    "List = [1, 1, 1, 2, 1, 3, 1, 4, 2, 1, 2, 2, 2, 3, 2, 4, 3, 1, 3, 2, 3, 3, 3, 4, 4, 1, 4, 2, 4, 3, 4, 4]"
   ]
  },
  {
   "cell_type": "code",
   "execution_count": 7,
   "id": "3ac3dad0-5da7-4d8b-926d-5da635542ab7",
   "metadata": {},
   "outputs": [
    {
     "data": {
      "text/plain": [
       "{1, 2, 3, 4}"
      ]
     },
     "execution_count": 7,
     "metadata": {},
     "output_type": "execute_result"
    }
   ],
   "source": [
    "\"\"\" Ans:- set do not allow duplicate items.\"\"\"\n",
    "list= [1, 1, 1, 2, 1, 3, 1, 4, 2, 1, 2, 2, 2, 3, 2, 4, 3, 1, 3, 2, 3, 3, 3, 4, 4, 1, 4, 2, 4, 3, 4, 4]\n",
    "set(list)"
   ]
  },
  {
   "cell_type": "markdown",
   "id": "9925e724-318a-4e2d-954c-831aa7d96147",
   "metadata": {},
   "source": [
    "## Q4. Explain the difference between the union() and update() methods for a set. Give an example of each method."
   ]
  },
  {
   "cell_type": "code",
   "execution_count": null,
   "id": "9a1364fd-22d0-4472-b115-fed5128df28c",
   "metadata": {},
   "outputs": [],
   "source": [
    "union() Method:-\n",
    "The union() method returns a new set that contains all the unique elements from the original set as well as the set(s) passed as an argument.\n",
    "The original set remains unchanged.\n",
    "The union() method can take one or more sets as arguments or can be used with the pipe (|) operator.\n",
    "The resulting set will contain only unique elements, eliminating any duplicates.\n",
    "\n",
    "update() Method:-\n",
    "The update() method modifies the original set by adding all the unique elements from the set(s) passed as an argument.\n",
    "The original set is updated in-place.\n",
    "The update() method can take one or more sets as arguments.\n",
    "Any duplicates from the argument sets are ignored, as the resulting set only contains unique elements."
   ]
  },
  {
   "cell_type": "code",
   "execution_count": 8,
   "id": "ed75f814-9579-4e84-a1b6-906c021f018f",
   "metadata": {},
   "outputs": [
    {
     "name": "stdout",
     "output_type": "stream",
     "text": [
      "{1, 2, 3, 4, 5}\n"
     ]
    }
   ],
   "source": [
    "\"\"\" example of union() method\"\"\"\n",
    "set1 = {1, 2, 3}\n",
    "set2 = {3, 4, 5}\n",
    "\n",
    "union_set = set1.union(set2)\n",
    "print(union_set)  "
   ]
  },
  {
   "cell_type": "code",
   "execution_count": 9,
   "id": "1e4df149-e580-4d7a-a49b-fac93c62c77f",
   "metadata": {},
   "outputs": [
    {
     "name": "stdout",
     "output_type": "stream",
     "text": [
      "{1, 2, 3, 4, 5}\n"
     ]
    }
   ],
   "source": [
    "\"\"\" examples of update() method\"\"\"\n",
    "set1 = {1, 2, 3}\n",
    "set2 = {3, 4, 5}\n",
    "\n",
    "set1.update(set2)\n",
    "print(set1)  \n"
   ]
  },
  {
   "cell_type": "markdown",
   "id": "0fcec3e3-e494-4707-815b-4332f9719984",
   "metadata": {},
   "source": [
    "## Q5. What is a dictionary? Give an example. Also, state whether a dictionary is ordered or unordered."
   ]
  },
  {
   "cell_type": "markdown",
   "id": "4a20cd02-28b1-45d9-9bda-8e979472335a",
   "metadata": {},
   "source": [
    "Ans:-A dictionary is a data structure in Python that stores a collection of key-value pairs. Each key in the dictionary is unique, and it is used to access its corresponding value"
   ]
  },
  {
   "cell_type": "code",
   "execution_count": 11,
   "id": "b58ae784-b4e9-4f6b-a2d8-2e584d40f239",
   "metadata": {},
   "outputs": [
    {
     "name": "stdout",
     "output_type": "stream",
     "text": [
      "{'name': 'gitesh ', 'age': 27, 'city': 'Howrah', 'occupation': 'Data science student'}\n"
     ]
    }
   ],
   "source": [
    "\"\"\" example\"\"\"\n",
    "person = {\n",
    "    \"name\": \"gitesh \",\n",
    "    \"age\": 27,\n",
    "    \"city\": \"Howrah\",\n",
    "    \"occupation\": \"Data science student\"}\n",
    "print(person)"
   ]
  },
  {
   "cell_type": "code",
   "execution_count": null,
   "id": "1ac91903-e7c3-4584-94f2-f20fb7556af2",
   "metadata": {},
   "outputs": [],
   "source": [
    "Dictionaries store key-value pairs, and while the insertion order is maintained in latest version of python."
   ]
  },
  {
   "cell_type": "markdown",
   "id": "26a14322-72d5-41b7-8bbe-bd81eba466bf",
   "metadata": {},
   "source": [
    "## Q6. Can we create a nested dictionary? If so, please give an example by creating a simple one-level nested dictionary."
   ]
  },
  {
   "cell_type": "code",
   "execution_count": null,
   "id": "d1e9dec2-b326-447b-804c-1f3953b8ed52",
   "metadata": {},
   "outputs": [],
   "source": [
    "Ans:-\n",
    "Yes, we can create a nested dictionary in Python. A nested dictionary is a dictionary where the values themselves are dictionaries. \n",
    "This allows for creating hierarchical structures and organizing data in a nested manne"
   ]
  },
  {
   "cell_type": "code",
   "execution_count": 13,
   "id": "633fa2c9-d960-4271-9960-f0dec5691a50",
   "metadata": {},
   "outputs": [
    {
     "name": "stdout",
     "output_type": "stream",
     "text": [
      "{'name': 'Gitesh karan', 'age': 27, 'grades': {'math': 90, 'science': 85, 'history': 56}}\n"
     ]
    }
   ],
   "source": [
    "\"\"\"example of nested dictionary\"\"\"\n",
    "\n",
    "student = {\n",
    "    \"name\": \"Gitesh karan\",\n",
    "    \"age\": 27,\n",
    "    \"grades\": {\n",
    "        \"math\": 90,\n",
    "        \"science\": 85,\n",
    "        \"history\": 56   }\n",
    "}\n",
    "print(student)"
   ]
  },
  {
   "cell_type": "markdown",
   "id": "b711135b-f0a0-4f61-bf54-2a8e2e2f88f3",
   "metadata": {},
   "source": [
    "## Q7. Using setdefault() method, create key named topics in the given dictionary and  also add the value of the key as this list ['Python', 'Machine Learning’, 'Deep Learning'] dict1 = {'language' : 'Python', 'course': 'Data Science Masters'}"
   ]
  },
  {
   "cell_type": "code",
   "execution_count": 15,
   "id": "b2b05710-12bf-4cfb-94d7-12a1818e2a75",
   "metadata": {},
   "outputs": [
    {
     "name": "stdout",
     "output_type": "stream",
     "text": [
      "{'language': 'Python', 'course': 'Data Science Masters', 'topics': ['Python', 'Machine Learning', 'Deep Learning']}\n"
     ]
    }
   ],
   "source": [
    "dict1 = {'language': 'Python', 'course': 'Data Science Masters'}\n",
    "\n",
    "dict1.setdefault('topics', ['Python', 'Machine Learning', 'Deep Learning'])\n",
    "\n",
    "print(dict1)\n"
   ]
  },
  {
   "cell_type": "markdown",
   "id": "dd93fcf5-f6b6-4a5c-8d24-f79f8c208da9",
   "metadata": {},
   "source": [
    "## Q8. What are the three view objects in dictionaries? Use the three in-built methods in python to display these three view objects for the given dictionary. dict1 = {'Sport': 'Cricket' , 'Teams': ['India', 'Australia', 'England', 'South Africa', 'Sri Lanka', 'New Zealand']}"
   ]
  },
  {
   "cell_type": "code",
   "execution_count": null,
   "id": "1e43c30f-82ee-4804-bda1-d20591291cf2",
   "metadata": {},
   "outputs": [],
   "source": [
    "Ans:-In dictionaries, there are three view objects that provide different perspectives on the dictionary's keys, values, and key-value pairs.\n"
   ]
  },
  {
   "cell_type": "code",
   "execution_count": 17,
   "id": "e4007f1e-8114-43cf-aea5-a0f946ee0194",
   "metadata": {},
   "outputs": [
    {
     "name": "stdout",
     "output_type": "stream",
     "text": [
      "Keys view object: dict_keys(['Sport', 'Teams'])\n",
      "Values view object: dict_values(['Cricket', ['India', 'Australia', 'England', 'South Africa', 'Sri Lanka', 'New Zealand']])\n",
      "Items view object: dict_items([('Sport', 'Cricket'), ('Teams', ['India', 'Australia', 'England', 'South Africa', 'Sri Lanka', 'New Zealand'])])\n"
     ]
    }
   ],
   "source": [
    "dict1 = {'Sport': 'Cricket' , 'Teams': ['India', 'Australia', 'England', 'South Africa', 'Sri Lanka', 'New Zealand']}\n",
    "\n",
    "\"\"\"keys view object\"\"\"\n",
    "keys_view = dict1.keys()\n",
    "\n",
    "\"\"\"values view object\"\"\"\n",
    "values_view = dict1.values()\n",
    "\n",
    "\"\"\"Get the dict_items view object\"\"\"\n",
    "items_view = dict1.items()\n",
    "\n",
    "\n",
    "print(\"Keys view object:\", keys_view)\n",
    "print(\"Values view object:\", values_view)\n",
    "print(\"Items view object:\", items_view)\n"
   ]
  },
  {
   "cell_type": "code",
   "execution_count": null,
   "id": "f881e5a4-a31b-44eb-b37d-08eb954e0c0a",
   "metadata": {},
   "outputs": [],
   "source": []
  },
  {
   "cell_type": "code",
   "execution_count": null,
   "id": "1094cc14-6b6c-4a9e-ba15-33692a331135",
   "metadata": {},
   "outputs": [],
   "source": []
  },
  {
   "cell_type": "code",
   "execution_count": null,
   "id": "a652735a-f92a-42bb-9c91-a39ba461a2cd",
   "metadata": {},
   "outputs": [],
   "source": []
  }
 ],
 "metadata": {
  "kernelspec": {
   "display_name": "Python 3 (ipykernel)",
   "language": "python",
   "name": "python3"
  },
  "language_info": {
   "codemirror_mode": {
    "name": "ipython",
    "version": 3
   },
   "file_extension": ".py",
   "mimetype": "text/x-python",
   "name": "python",
   "nbconvert_exporter": "python",
   "pygments_lexer": "ipython3",
   "version": "3.10.8"
  }
 },
 "nbformat": 4,
 "nbformat_minor": 5
}
