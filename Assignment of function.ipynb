{
 "cells": [
  {
   "cell_type": "markdown",
   "id": "226b6478-7e89-4788-9606-db4329f8bfef",
   "metadata": {},
   "source": [
    "## Q1. Which keyword is used to create a function? Create a function to return a list of odd numbers in the range of 1 to 25."
   ]
  },
  {
   "cell_type": "markdown",
   "id": "9440041b-0e12-4b49-ace1-e01475e9fc39",
   "metadata": {},
   "source": [
    "Ans= def key word is use to create a function.\n"
   ]
  },
  {
   "cell_type": "code",
   "execution_count": 1,
   "id": "899a48cc-d783-49f6-a12a-cb1a2a5830ea",
   "metadata": {},
   "outputs": [],
   "source": [
    "def odd_numbers(number):\n",
    "    b=[]\n",
    "    for i in range(1,number+1):\n",
    "        if i%2!=0:\n",
    "            b.append(i)\n",
    "    return b\n"
   ]
  },
  {
   "cell_type": "code",
   "execution_count": 2,
   "id": "c97bc3f4-442a-4058-829a-5bc4fab9f192",
   "metadata": {},
   "outputs": [
    {
     "data": {
      "text/plain": [
       "[1, 3, 5, 7, 9, 11, 13, 15, 17, 19, 21, 23, 25]"
      ]
     },
     "execution_count": 2,
     "metadata": {},
     "output_type": "execute_result"
    }
   ],
   "source": [
    "odd_numbers(25)"
   ]
  },
  {
   "cell_type": "code",
   "execution_count": null,
   "id": "7822747f-9db0-41b7-afe9-559b6b843505",
   "metadata": {},
   "outputs": [],
   "source": []
  },
  {
   "cell_type": "markdown",
   "id": "4d36eac1-9d5f-4b61-b043-f3be618778a9",
   "metadata": {},
   "source": [
    "## Q2. Why *args and **kwargs is used in some functions? Create a function each for *args and **kwargs to demonstrate their use.\n",
    "  "
   ]
  },
  {
   "cell_type": "markdown",
   "id": "559f8008-b6d3-424d-84ee-5b1873367480",
   "metadata": {},
   "source": [
    "Ans\n",
    "i) The *args syntax allows a function to accept any number of  arguments.\n",
    "ii) The **kwargs syntax allows a function to accept any number of keyword arguments."
   ]
  },
  {
   "cell_type": "code",
   "execution_count": 7,
   "id": "92288e63-541c-4602-92ee-dfacffe5b9de",
   "metadata": {},
   "outputs": [
    {
     "data": {
      "text/plain": [
       "('apple', 'banana', 'cherry')"
      ]
     },
     "execution_count": 7,
     "metadata": {},
     "output_type": "execute_result"
    }
   ],
   "source": [
    "# Create a function for *args\n",
    "def bittu(*args):\n",
    "    \n",
    "     return args\n",
    "\n",
    "bittu('apple', 'banana', 'cherry')\n"
   ]
  },
  {
   "cell_type": "code",
   "execution_count": 3,
   "id": "e6473004-1037-44d5-a333-7574c1171a61",
   "metadata": {},
   "outputs": [
    {
     "data": {
      "text/plain": [
       "{'id': '1', 'name': 'Gitesh', 'age': '27'}"
      ]
     },
     "execution_count": 3,
     "metadata": {},
     "output_type": "execute_result"
    }
   ],
   "source": [
    "#  Create  a function for **kwargs\n",
    "def bittu(**kwargs):\n",
    "    return kwargs\n",
    "bittu(id=\"1\",name=\"Gitesh\",age=\"27\")\n"
   ]
  },
  {
   "cell_type": "markdown",
   "id": "6be4aab1-5e67-495a-8c48-5eff24ff75b9",
   "metadata": {},
   "source": [
    "## Q3. What is an iterator in python? Name the method used to initialise the iterator object and the method used for iteration. Use these methods to print the first five elements of the given list [2, 4, 6, 8, 10, 12, 14, 16, 18, 20]."
   ]
  },
  {
   "cell_type": "markdown",
   "id": "6ee83a08-bd02-482b-a553-b6cbc4d57c99",
   "metadata": {},
   "source": [
    "Ans=\n",
    "An iterator in Python is an object that implements the iterator protocol. It consists of two methods: iter() and next().\n",
    "\n",
    "iter() method: This method is used to initialize the iterator object.\n",
    "next() method: This method is used to retrieve the next element from the iterator."
   ]
  },
  {
   "cell_type": "code",
   "execution_count": 8,
   "id": "e002c914-9e8d-4aae-80ae-ebb8af77cae3",
   "metadata": {},
   "outputs": [
    {
     "name": "stdout",
     "output_type": "stream",
     "text": [
      "2\n",
      "4\n",
      "6\n",
      "8\n",
      "10\n"
     ]
    }
   ],
   "source": [
    "my_list = [2, 4, 6, 8, 10, 12, 14, 16, 18, 20]\n",
    "my_iterator = iter(my_list)\n",
    "\n",
    "count = 0\n",
    "while count < 5:\n",
    "    element = next(my_iterator)\n",
    "    print(element)\n",
    "    count += 1\n"
   ]
  },
  {
   "cell_type": "markdown",
   "id": "1f1d219d-7220-4be9-ae51-1c2929ad422f",
   "metadata": {},
   "source": [
    "## Q4. What is a generator function in python? Why yield keyword is used? Give an example of a generator function."
   ]
  },
  {
   "cell_type": "markdown",
   "id": "8d645204-9f36-4f4d-a4c3-f272bce4ed47",
   "metadata": {},
   "source": [
    "Ans=\n",
    "A generator function is a special type of function that generates a sequence of values using the yield keyword instead of return"
   ]
  },
  {
   "cell_type": "markdown",
   "id": "4e5f994d-4964-488e-8c19-36f213e6ce43",
   "metadata": {},
   "source": [
    "The yield keyword is used in a generator function to define points at which the function should pause its execution and yield a value to the caller. "
   ]
  },
  {
   "cell_type": "code",
   "execution_count": 2,
   "id": "801aac3b-3f83-4b99-aba1-b710e4cd9a09",
   "metadata": {},
   "outputs": [
    {
     "name": "stdout",
     "output_type": "stream",
     "text": [
      "<generator object even_numbers at 0x7f4b56979770>\n"
     ]
    }
   ],
   "source": [
    "def even_numbers(start, end):\n",
    "    for num in range(start, end + 1):\n",
    "        if num % 2 == 0:\n",
    "            yield num\n",
    "\n",
    "a=even_numbers(1, 10)\n",
    "print(a)"
   ]
  },
  {
   "cell_type": "code",
   "execution_count": 3,
   "id": "ec7d068e-657d-43bd-9678-f12afb0609c6",
   "metadata": {},
   "outputs": [
    {
     "data": {
      "text/plain": [
       "2"
      ]
     },
     "execution_count": 3,
     "metadata": {},
     "output_type": "execute_result"
    }
   ],
   "source": [
    "next(a)"
   ]
  },
  {
   "cell_type": "code",
   "execution_count": 4,
   "id": "f8922092-1db7-41a0-934b-03a2532f1956",
   "metadata": {},
   "outputs": [
    {
     "data": {
      "text/plain": [
       "4"
      ]
     },
     "execution_count": 4,
     "metadata": {},
     "output_type": "execute_result"
    }
   ],
   "source": [
    "next(a)"
   ]
  },
  {
   "cell_type": "markdown",
   "id": "9532a7ba-5d19-4a7d-86b6-15dcd74bfd9c",
   "metadata": {},
   "source": [
    "## Q5. Create a generator function for prime numbers less than 1000. Use the next() method to print the first 20 prime numbers."
   ]
  },
  {
   "cell_type": "code",
   "execution_count": 6,
   "id": "cef9e72a-0e98-4af0-adb9-2723e7401adb",
   "metadata": {},
   "outputs": [
    {
     "name": "stdout",
     "output_type": "stream",
     "text": [
      "2\n",
      "3\n",
      "4\n",
      "5\n",
      "6\n",
      "7\n",
      "8\n",
      "9\n",
      "10\n",
      "11\n",
      "12\n",
      "13\n",
      "14\n",
      "15\n",
      "16\n",
      "17\n",
      "18\n",
      "19\n",
      "20\n",
      "21\n"
     ]
    }
   ],
   "source": [
    "def primes_generator():\n",
    "    primes = []\n",
    "    num = 2\n",
    "    while num < 1000:\n",
    "        if all(num % prime != 0 for prime in primes):\n",
    "            primes.append(num)\n",
    "            yield num\n",
    "        num += 1\n",
    "prime_generator = primes_generator()\n",
    "\n",
    "for _ in range(20):\n",
    "    prime = next(prime_generator)\n",
    "    print(prime)\n"
   ]
  },
  {
   "cell_type": "code",
   "execution_count": null,
   "id": "3d25b53e-2530-4b7b-8019-6e6e684be7d0",
   "metadata": {},
   "outputs": [],
   "source": []
  }
 ],
 "metadata": {
  "kernelspec": {
   "display_name": "Python 3 (ipykernel)",
   "language": "python",
   "name": "python3"
  },
  "language_info": {
   "codemirror_mode": {
    "name": "ipython",
    "version": 3
   },
   "file_extension": ".py",
   "mimetype": "text/x-python",
   "name": "python",
   "nbconvert_exporter": "python",
   "pygments_lexer": "ipython3",
   "version": "3.10.8"
  }
 },
 "nbformat": 4,
 "nbformat_minor": 5
}
