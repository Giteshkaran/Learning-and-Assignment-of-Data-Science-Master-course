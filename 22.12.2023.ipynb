{
 "cells": [
  {
   "cell_type": "markdown",
   "id": "e184da3d-9097-4ad3-80f3-367b618a72e5",
   "metadata": {},
   "source": [
    "## Q1. Explain Class and Object with respect to Object-Oriented Programming. Give a suitable example."
   ]
  },
  {
   "cell_type": "markdown",
   "id": "8abc353e-2909-4a0a-9c51-44389effa10e",
   "metadata": {},
   "source": [
    "## Class:\n",
    "\n",
    "It's a blueprint or template that defines the characteristics (attributes) and behaviors (methods) of a particular type of object.\n",
    "It doesn't represent a specific entity, but rather a general concept or category.\n",
    "Think of it as a cookie cutter that defines the shape and features of cookies, but doesn't yet create actual cookies.\n",
    "\n",
    "## Object:\n",
    "\n",
    "It's an instance of a class, meaning it's a concrete entity that has been created from the class's blueprint.\n",
    "It has its own unique set of values for its attributes, making it distinct from other objects of the same class.\n",
    "Think of it as an actual cookie made using the cookie cutter (class); each cookie can have different decorations and fillings.\n",
    "\n",
    "## Example:\n",
    "\n",
    "Class: Dog\n",
    "\n",
    "Attributes:\n",
    "\n",
    "name (string)\n",
    "breed (string)\n",
    "age (integer)\n",
    "color (string)\n",
    "Methods:\n",
    "\n",
    "bark()\n",
    "wagTail()\n",
    "fetch()\n",
    "eat()\n",
    "Objects:\n",
    "\n",
    "fido = Dog(\"Fido\", \"Labrador\", 3, \"brown\")\n",
    "buddy = Dog(\"Buddy\", \"Golden Retriever\", 1, \"golden\")"
   ]
  },
  {
   "cell_type": "markdown",
   "id": "a0019740-f74c-44fe-85b0-5732d35cc731",
   "metadata": {},
   "source": [
    "## Q2. Name the four pillars of OOPs."
   ]
  },
  {
   "cell_type": "markdown",
   "id": "3189d0b2-8729-4d30-9e6e-8299b0c21d89",
   "metadata": {},
   "source": [
    "## The four pillars of Object-Oriented Programming (OOP) are:\n",
    "\n",
    "## Abstraction:\n",
    "Focusing on the essential aspects of an object and hiding its internal details from the outside world. It simplifies the complexity of real-world objects for the programmer.\n",
    "## Encapsulation:\n",
    "Bundling data (attributes) and methods (behaviors) together into a single unit (object), protecting internal data from unauthorized access and manipulation.\n",
    "## Inheritance:\n",
    "Creating new classes by inheriting features (attributes and methods) from existing classes, promoting code reusability and reducing redundancy.\n",
    "## Polymorphism:\n",
    "The ability of an object to take on different forms and respond differently to the same message depending on its actual type. This allows for flexible and adaptable code.\n",
    "These four pillars form the foundation of OOP and contribute to its benefits of modularity, code reusability, maintainability, and scalability."
   ]
  },
  {
   "cell_type": "markdown",
   "id": "e87c3879-46a9-4670-8825-034b1345ee4c",
   "metadata": {},
   "source": [
    "## Q3. Explain why the __init__() function is used. Give a suitable example."
   ]
  },
  {
   "cell_type": "markdown",
   "id": "12ae010e-50fa-4c7d-bbb7-05094db90519",
   "metadata": {},
   "source": [
    "## Purpose:\n",
    "\n",
    "It's the constructor method of a class, meaning it's automatically called whenever a new object of that class is created.\n",
    "Its primary purpose is to initialize the object's attributes, ensuring that each object starts with a valid and meaningful state."
   ]
  },
  {
   "cell_type": "code",
   "execution_count": 3,
   "id": "e54fe6d2-6f7e-4482-9a0b-09868065e2b4",
   "metadata": {},
   "outputs": [
    {
     "name": "stdout",
     "output_type": "stream",
     "text": [
      "Hi, my name is Gitesh and I am 30 years old.\n",
      "Hi, my name is bittu and I am 25 years old.\n"
     ]
    }
   ],
   "source": [
    "class Person:\n",
    "  def __init__(self, name, age):\n",
    "    self.name = name\n",
    "    self.age = age\n",
    "\n",
    "  def introduce(self):\n",
    "    print(\"Hi, my name is\", self.name, \"and I am\", self.age, \"years old.\")\n",
    "\n",
    "\n",
    "person1 = Person(\"Gitesh\", 30)\n",
    "person2 = Person(\"bittu\", 25)\n",
    "\n",
    "\n",
    "person1.introduce()  \n",
    "\n",
    "person2.introduce()  \n"
   ]
  },
  {
   "cell_type": "markdown",
   "id": "463ff5fc-2aab-4617-93bf-4a9ec595bd36",
   "metadata": {},
   "source": [
    "## Q4. Why self is used in OOPs?"
   ]
  },
  {
   "cell_type": "markdown",
   "id": "dec05215-3c65-498a-9b86-2d116695a8bc",
   "metadata": {},
   "source": [
    "\n",
    "In object-oriented programming (OOP), the \"self\" keyword serves multiple crucial purposes:\n",
    "\n",
    "## 1. Referencing the Current Object:\n",
    "\n",
    "\"self\" refers to the specific object the method is currently acting upon. This distinguishes it from local variables within the method, which are specific to that execution.\n",
    "Without \"self,\" you wouldn't have a way to differentiate between attributes and parameters within the method.\n",
    "## 2. Accessing Attributes and Methods:\n",
    "\n",
    "\"self\" acts as a bridge between the method and the object's attributes and methods.\n",
    "By using \"self.attribute,\" you access the specified attribute within the current object. Similarly, \"self.method()\" calls a method on the current object.\n",
    "## 3. Maintaining Identity and State:\n",
    "\n",
    "\"self\" ensures that modifications made within the method affect the specific object, not a generic copy.\n",
    "This preserves the individual object's state and identity throughout its lifecycle.\n",
    "## 4. Code Readability and Clarity:\n",
    "\n",
    "Explicitly using \"self\" makes the code clearer and easier to understand, especially for complex methods that interact with the object's internals.\n",
    "It highlights the relationship between the method and the object, preventing unintentional modifications to unrelated data."
   ]
  },
  {
   "cell_type": "markdown",
   "id": "21bdd9c8-3921-4326-b686-2ebb73838e15",
   "metadata": {},
   "source": [
    "## Q5. What is inheritance? Give an example for each type of inheritance.\n"
   ]
  },
  {
   "cell_type": "markdown",
   "id": "2323e9f6-8433-4897-903b-0b3233c5bc72",
   "metadata": {},
   "source": [
    "Inheritance in object-oriented programming (OOP) is a mechanism that allows a new class (called a subclass or derived class) to inherit the properties and methods of an existing class (called a superclass or base class). It promotes code reusability, reduces redundancy, and establishes a hierarchical relationship between classes.\n",
    "\n",
    "Here are the main types of inheritance, along with examples and visual representations:\n"
   ]
  },
  {
   "cell_type": "code",
   "execution_count": null,
   "id": "dd9a86b6-867b-4883-99fe-781905b02ad4",
   "metadata": {},
   "outputs": [],
   "source": [
    "## 1. Single Inheritance: A subclass inherits from a single superclass.\n",
    "class Animal:\n",
    "  def eat(self):\n",
    "    print(\"Animal is eating.\")\n",
    "\n",
    "class Dog(Animal):  # Dog inherits from Animal\n",
    "  def bark(self):\n",
    "    print(\"Woof!\")\n",
    "    \n",
    "## 2. Multiple Inheritance: A subclass inherits from multiple superclasses.\n",
    "class Employee:\n",
    "  def get_salary(self):\n",
    "    pass\n",
    "\n",
    "class Person:\n",
    "  def get_name(self):\n",
    "    pass\n",
    "\n",
    "class Manager(Employee, Person):  # Manager inherits from both Employee and Person\n",
    "  def manage_team(self):\n",
    "    pass\n",
    "## 3. Multilevel Inheritance: A subclass inherits from a class that itself inherits from another class, creating a chain of inheritance.\n",
    "class Animal:\n",
    "  def eat(self):\n",
    "    print(\"Animal is eating.\")\n",
    "\n",
    "class Mammal(Animal):\n",
    "  def give_birth(self):\n",
    "    print(\"Mammal is giving birth.\")\n",
    "\n",
    "class Dog(Mammal):  # Dog inherits from Mammal, which inherits from Animal\n",
    "  def bark(self):\n",
    "    print(\"Woof!\")\n",
    "## 4. Hierarchical Inheritance:Multiple subclasses inherit from a single superclass, forming a tree-like structure.\n",
    "class Vehicle:\n",
    "  def move(self):\n",
    "    print(\"Vehicle is moving.\")\n",
    "\n",
    "class Car(Vehicle):\n",
    "  pass\n",
    "\n",
    "class Truck(Vehicle):\n",
    "  pass\n",
    "\n",
    "class Motorcycle(Vehicle):\n",
    "  pass\n"
   ]
  },
  {
   "cell_type": "code",
   "execution_count": null,
   "id": "a175afc3-fbcd-47ab-ad6b-5174373e9c82",
   "metadata": {},
   "outputs": [],
   "source": []
  },
  {
   "cell_type": "code",
   "execution_count": null,
   "id": "fbef0ec7-3d86-49f9-996c-77bca2e4c3d8",
   "metadata": {},
   "outputs": [],
   "source": []
  }
 ],
 "metadata": {
  "kernelspec": {
   "display_name": "Python 3 (ipykernel)",
   "language": "python",
   "name": "python3"
  },
  "language_info": {
   "codemirror_mode": {
    "name": "ipython",
    "version": 3
   },
   "file_extension": ".py",
   "mimetype": "text/x-python",
   "name": "python",
   "nbconvert_exporter": "python",
   "pygments_lexer": "ipython3",
   "version": "3.10.8"
  }
 },
 "nbformat": 4,
 "nbformat_minor": 5
}
